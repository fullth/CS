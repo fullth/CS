{
  "nbformat": 4,
  "nbformat_minor": 0,
  "metadata": {
    "colab": {
      "name": "python.ipynb",
      "provenance": [],
      "authorship_tag": "ABX9TyP6hU+KQsH6uEcF3zHYfeWP",
      "include_colab_link": true
    },
    "kernelspec": {
      "name": "python3",
      "display_name": "Python 3"
    },
    "language_info": {
      "name": "python"
    }
  },
  "cells": [
    {
      "cell_type": "markdown",
      "metadata": {
        "id": "view-in-github",
        "colab_type": "text"
      },
      "source": [
        "<a href=\"https://colab.research.google.com/github/fullth/CS/blob/main/python.ipynb\" target=\"_parent\"><img src=\"https://colab.research.google.com/assets/colab-badge.svg\" alt=\"Open In Colab\"/></a>"
      ]
    },
    {
      "cell_type": "code",
      "metadata": {
        "id": "8B2M4HpZhDKl"
      },
      "source": [
        "a = [1,2,3,4,5]"
      ],
      "execution_count": null,
      "outputs": []
    },
    {
      "cell_type": "markdown",
      "metadata": {
        "id": "CfuDPbBEl3_3"
      },
      "source": [
        "파이썬의 리스트 초기화. "
      ]
    },
    {
      "cell_type": "code",
      "metadata": {
        "colab": {
          "base_uri": "https://localhost:8080/"
        },
        "id": "brJs2pbxhVj4",
        "outputId": "9227289e-c7ad-4265-e465-0d2688c28aca"
      },
      "source": [
        "print(a[0:5]);"
      ],
      "execution_count": null,
      "outputs": [
        {
          "output_type": "stream",
          "name": "stdout",
          "text": [
            "[1, 2, 3, 4, 5]\n"
          ]
        }
      ]
    },
    {
      "cell_type": "markdown",
      "metadata": {
        "id": "-e22PBmSk-TB"
      },
      "source": [
        "순차적으로 가져오는 것을 파이썬에서는 슬라이싱이라고 함"
      ]
    },
    {
      "cell_type": "code",
      "metadata": {
        "colab": {
          "base_uri": "https://localhost:8080/"
        },
        "id": "w9IxIRAViNrw",
        "outputId": "47709ef2-47b2-43d2-e335-5586e34cad6e"
      },
      "source": [
        "print(a[-1])"
      ],
      "execution_count": null,
      "outputs": [
        {
          "output_type": "stream",
          "name": "stdout",
          "text": [
            "5\n"
          ]
        }
      ]
    },
    {
      "cell_type": "markdown",
      "metadata": {
        "id": "DXugODTok5Rv"
      },
      "source": [
        "음의 정수를 입력하면 끝에서부터 탐색한다."
      ]
    },
    {
      "cell_type": "code",
      "metadata": {
        "colab": {
          "base_uri": "https://localhost:8080/"
        },
        "id": "XfXkkWJ-kUGc",
        "outputId": "158bf486-fff1-492d-faae-6aa7dac8d83c"
      },
      "source": [
        "for i in range(5):\n",
        "  print(i);"
      ],
      "execution_count": null,
      "outputs": [
        {
          "output_type": "stream",
          "name": "stdout",
          "text": [
            "0\n",
            "1\n",
            "2\n",
            "3\n",
            "4\n"
          ]
        }
      ]
    },
    {
      "cell_type": "markdown",
      "metadata": {
        "id": "gyGpeEqSlDok"
      },
      "source": [
        "for in 반복문, range없이 리스트 등을 쓰는 것은 자바와 비슷하고 range는 0부터의 값을 순서대로 갖는다."
      ]
    },
    {
      "cell_type": "code",
      "metadata": {
        "colab": {
          "base_uri": "https://localhost:8080/"
        },
        "id": "Uj8UYN-alVhs",
        "outputId": "71db2b99-bdf9-4f13-dedf-6c2e5dfed030"
      },
      "source": [
        "evenArray = [i for i in range(20) if i % 2 == 1];\n",
        "for i in evenArray:\n",
        "  print(i);"
      ],
      "execution_count": null,
      "outputs": [
        {
          "output_type": "stream",
          "name": "stdout",
          "text": [
            "1\n",
            "3\n",
            "5\n",
            "7\n",
            "9\n",
            "11\n",
            "13\n",
            "15\n",
            "17\n",
            "19\n"
          ]
        }
      ]
    },
    {
      "cell_type": "markdown",
      "metadata": {
        "id": "mZunzkbwlqP8"
      },
      "source": [
        "리스트 컴프리핸션: 리스트 대괄호 안에 for문과 if문을 사용하여 리스트를 초기화 할 수 있다."
      ]
    },
    {
      "cell_type": "code",
      "metadata": {
        "colab": {
          "base_uri": "https://localhost:8080/"
        },
        "id": "6zkqErC5mrrO",
        "outputId": "5f585781-cd65-403c-9b3a-0dd003552920"
      },
      "source": [
        "n = 3;\n",
        "m = 4;\n",
        "array = [[0] * m for _ in range(n)];\n",
        "print(array);"
      ],
      "execution_count": null,
      "outputs": [
        {
          "output_type": "stream",
          "name": "stdout",
          "text": [
            "[[0, 0, 0, 0], [0, 0, 0, 0], [0, 0, 0, 0]]\n"
          ]
        }
      ]
    },
    {
      "cell_type": "markdown",
      "metadata": {
        "id": "Zcn92xDnoNjq"
      },
      "source": [
        "코딩테스트에서 이차원 배열을 사용할 때 유용하게 사용할 수 있다. 언더바(_)는 변수의 값을 무시할 때 사용한다."
      ]
    },
    {
      "cell_type": "markdown",
      "metadata": {
        "id": "S2sjK8lMt_Js"
      },
      "source": [
        "특정 크기의 이차원 배열을 선언할 때는 반드시 컴프리헨션을 "
      ]
    },
    {
      "cell_type": "code",
      "metadata": {
        "colab": {
          "base_uri": "https://localhost:8080/"
        },
        "id": "vqOJS1pAn_8W",
        "outputId": "88a7f9fa-6167-452e-cced-b7aff2c8f5d0"
      },
      "source": [
        "str = \"String Test\";\n",
        "print(str[7:11]);\n"
      ],
      "execution_count": null,
      "outputs": [
        {
          "output_type": "stream",
          "name": "stdout",
          "text": [
            "Test\n"
          ]
        }
      ]
    },
    {
      "cell_type": "markdown",
      "metadata": {
        "id": "tGqCjEJ0p3o3"
      },
      "source": [
        "문자열도 내부적으로 리스트와 같이 처리되어 인덱싱과 슬라이싱을 사용할 수 있다."
      ]
    },
    {
      "cell_type": "code",
      "metadata": {
        "colab": {
          "base_uri": "https://localhost:8080/"
        },
        "id": "EhxfGl_hs81c",
        "outputId": "7c255478-9d08-4c76-9cd7-64c8759e2f9f"
      },
      "source": [
        "data = dict()\n",
        "data['A'] = 'Apple'\n",
        "data['B'] = 'Banana'\n",
        "print(data)\n",
        "print(data['A'])"
      ],
      "execution_count": null,
      "outputs": [
        {
          "output_type": "stream",
          "name": "stdout",
          "text": [
            "{'A': 'Apple', 'B': 'Banana'}\n",
            "Apple\n"
          ]
        }
      ]
    },
    {
      "cell_type": "code",
      "metadata": {
        "colab": {
          "base_uri": "https://localhost:8080/"
        },
        "id": "fS2bQUS1uY6r",
        "outputId": "2d56550c-1090-480e-a5f9-d0bf40edb6af"
      },
      "source": [
        "array2 = [1, 2, 2, 3, 3, 3]\n",
        "setTest = set(array2)\n",
        "print(setTest)"
      ],
      "execution_count": null,
      "outputs": [
        {
          "output_type": "stream",
          "name": "stdout",
          "text": [
            "{1, 2, 3}\n"
          ]
        }
      ]
    },
    {
      "cell_type": "markdown",
      "metadata": {
        "id": "wrTTRIx-umP8"
      },
      "source": [
        "set을 활용하여 배열의 중복을 제거할 수 있다."
      ]
    },
    {
      "cell_type": "code",
      "metadata": {
        "colab": {
          "base_uri": "https://localhost:8080/"
        },
        "id": "o8U45-qrveTT",
        "outputId": "2cbb5586-690e-4926-cada-333f96d57960"
      },
      "source": [
        "def add(a, b):\n",
        "    return a+b\n",
        "\n",
        "print(add(3,4))\n"
      ],
      "execution_count": null,
      "outputs": [
        {
          "output_type": "stream",
          "name": "stdout",
          "text": [
            "7\n"
          ]
        }
      ]
    },
    {
      "cell_type": "markdown",
      "metadata": {
        "id": "IgWcwov4wVXa"
      },
      "source": [
        "파이썬에서의 함수 선언 및 사용"
      ]
    },
    {
      "cell_type": "code",
      "metadata": {
        "colab": {
          "base_uri": "https://localhost:8080/"
        },
        "id": "1mP0ErpKwUXo",
        "outputId": "a6b5b118-cda8-49d8-acb4-6526ed287d3e"
      },
      "source": [
        "testInput = input();\n",
        "\n",
        "print(testInput);"
      ],
      "execution_count": null,
      "outputs": [
        {
          "output_type": "stream",
          "name": "stdout",
          "text": [
            "test\n",
            "test\n"
          ]
        }
      ]
    },
    {
      "cell_type": "markdown",
      "metadata": {
        "id": "cTpqZCkBxMIg"
      },
      "source": [
        "파이썬은 input메소드로 문자열을 입력을 받는다. \n",
        "정수형은 캐스팅 하여야 한다.\n"
      ]
    },
    {
      "cell_type": "code",
      "metadata": {
        "colab": {
          "base_uri": "https://localhost:8080/",
          "height": 207
        },
        "id": "IJ9MSrVPxM5E",
        "outputId": "85f18e46-8275-4949-d232-3b66eab10073"
      },
      "source": [
        "input = int(input())\n",
        "testCastToInt = list(map(input, input().split()))\n",
        "print(testCastToInt)"
      ],
      "execution_count": null,
      "outputs": [
        {
          "output_type": "error",
          "ename": "TypeError",
          "evalue": "ignored",
          "traceback": [
            "\u001b[0;31m---------------------------------------------------------------------------\u001b[0m",
            "\u001b[0;31mTypeError\u001b[0m                                 Traceback (most recent call last)",
            "\u001b[0;32m<ipython-input-28-d93350b21f03>\u001b[0m in \u001b[0;36m<module>\u001b[0;34m()\u001b[0m\n\u001b[0;32m----> 1\u001b[0;31m \u001b[0minput\u001b[0m \u001b[0;34m=\u001b[0m \u001b[0mint\u001b[0m\u001b[0;34m(\u001b[0m\u001b[0minput\u001b[0m\u001b[0;34m(\u001b[0m\u001b[0;34m)\u001b[0m\u001b[0;34m)\u001b[0m\u001b[0;34m\u001b[0m\u001b[0;34m\u001b[0m\u001b[0m\n\u001b[0m\u001b[1;32m      2\u001b[0m \u001b[0mtestCastToInt\u001b[0m \u001b[0;34m=\u001b[0m \u001b[0mlist\u001b[0m\u001b[0;34m(\u001b[0m\u001b[0mmap\u001b[0m\u001b[0;34m(\u001b[0m\u001b[0minput\u001b[0m\u001b[0;34m,\u001b[0m \u001b[0minput\u001b[0m\u001b[0;34m(\u001b[0m\u001b[0;34m)\u001b[0m\u001b[0;34m.\u001b[0m\u001b[0msplit\u001b[0m\u001b[0;34m(\u001b[0m\u001b[0;34m)\u001b[0m\u001b[0;34m)\u001b[0m\u001b[0;34m)\u001b[0m\u001b[0;34m\u001b[0m\u001b[0;34m\u001b[0m\u001b[0m\n\u001b[1;32m      3\u001b[0m \u001b[0mprint\u001b[0m\u001b[0;34m(\u001b[0m\u001b[0mtestCastToInt\u001b[0m\u001b[0;34m)\u001b[0m\u001b[0;34m\u001b[0m\u001b[0;34m\u001b[0m\u001b[0m\n",
            "\u001b[0;31mTypeError\u001b[0m: 'int' object is not callable"
          ]
        }
      ]
    }
  ]
}